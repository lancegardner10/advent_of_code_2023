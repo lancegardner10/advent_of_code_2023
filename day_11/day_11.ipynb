{
 "cells": [
  {
   "cell_type": "markdown",
   "metadata": {},
   "source": [
    "**Part One**"
   ]
  },
  {
   "cell_type": "code",
   "execution_count": 15,
   "metadata": {},
   "outputs": [],
   "source": [
    "data = []\n",
    "\n",
    "with open('input.txt') as my_input:\n",
    "    for line in my_input:\n",
    "        data.append(list(line.strip()))"
   ]
  },
  {
   "cell_type": "code",
   "execution_count": 16,
   "metadata": {},
   "outputs": [],
   "source": [
    "# check for rows to duplicate\n",
    "row_dup = []\n",
    "col_dup = []\n",
    "\n",
    "for row in range(len(data)):\n",
    "    dup = True\n",
    "    for col in range(len(data[row])):\n",
    "        if data[row][col] == '#':\n",
    "            dup = False\n",
    "    if dup:\n",
    "        row_dup.append(row)\n",
    "        \n",
    "for col in range(len(data[0])):\n",
    "    dup = True\n",
    "    for row in range(len(data)):\n",
    "        if data[row][col] == '#':\n",
    "            dup = False\n",
    "    if dup:\n",
    "        col_dup.append(col)"
   ]
  },
  {
   "cell_type": "code",
   "execution_count": 17,
   "metadata": {},
   "outputs": [],
   "source": [
    "dup = data[row_dup[0]]\n",
    "\n",
    "# insert extra rows\n",
    "for row in range(len(row_dup)):\n",
    "    data.insert(row + row_dup[row], dup)\n",
    "\n",
    "# insert extra columns\n",
    "for col in range(len(col_dup)):\n",
    "    for row in range(len(data)): # not quite as simple as inserting extra rows...\n",
    "        data[row].insert(col + col_dup[col], '.')"
   ]
  },
  {
   "cell_type": "code",
   "execution_count": 18,
   "metadata": {},
   "outputs": [],
   "source": [
    "counter = 0\n",
    "all_galaxies = []\n",
    "\n",
    "for row in range(len(data)):\n",
    "    for col in range(len(data[0])):\n",
    "        if data[row][col] == '#':\n",
    "            all_galaxies.append([row, col])"
   ]
  },
  {
   "cell_type": "code",
   "execution_count": 19,
   "metadata": {},
   "outputs": [],
   "source": [
    "distances = []\n",
    "\n",
    "for galaxy in range(len(all_galaxies)):\n",
    "    if galaxy != len(all_galaxies) -1:\n",
    "        for s_gal in range(galaxy + 1, len(all_galaxies)):\n",
    "            distance = abs(all_galaxies[galaxy][0] - all_galaxies[s_gal][0]) + abs(all_galaxies[galaxy][1] - all_galaxies[s_gal][1])\n",
    "            distances.append(distance)"
   ]
  },
  {
   "cell_type": "code",
   "execution_count": 20,
   "metadata": {},
   "outputs": [
    {
     "data": {
      "text/plain": [
       "9769724"
      ]
     },
     "execution_count": 20,
     "metadata": {},
     "output_type": "execute_result"
    }
   ],
   "source": [
    "sum(distances)"
   ]
  },
  {
   "cell_type": "markdown",
   "metadata": {},
   "source": [
    "**Part Two**"
   ]
  },
  {
   "cell_type": "code",
   "execution_count": 12,
   "metadata": {},
   "outputs": [],
   "source": [
    "data = []\n",
    "\n",
    "with open('input.txt') as my_input:\n",
    "    for line in my_input:\n",
    "        data.append(list(line.strip()))"
   ]
  },
  {
   "cell_type": "code",
   "execution_count": 13,
   "metadata": {},
   "outputs": [],
   "source": [
    "# check for rows to duplicate\n",
    "row_dup = []\n",
    "col_dup = []\n",
    "\n",
    "for row in range(len(data)):\n",
    "    dup = True\n",
    "    for col in range(len(data[row])):\n",
    "        if data[row][col] == '#':\n",
    "            dup = False\n",
    "    if dup:\n",
    "        row_dup.append(row)\n",
    "        \n",
    "for col in range(len(data[0])):\n",
    "    dup = True\n",
    "    for row in range(len(data)):\n",
    "        if data[row][col] == '#':\n",
    "            dup = False\n",
    "    if dup:\n",
    "        col_dup.append(col)"
   ]
  },
  {
   "cell_type": "code",
   "execution_count": null,
   "metadata": {},
   "outputs": [],
   "source": [
    "dup = data[row_dup[0]]\n",
    "\n",
    "# insert extra rows\n",
    "for row in range(len(row_dup)):\n",
    "    data.insert(row + row_dup[row], dup)\n",
    "\n",
    "# insert extra columns\n",
    "for col in range(len(col_dup)):\n",
    "    for row in range(len(data)): # not quite as simple as inserting extra rows...\n",
    "        data[row].insert(col + col_dup[col], '.')"
   ]
  },
  {
   "cell_type": "code",
   "execution_count": 14,
   "metadata": {},
   "outputs": [],
   "source": [
    "counter = 0\n",
    "all_galaxies = []\n",
    "\n",
    "for row in range(len(data)):\n",
    "    for col in range(len(data[0])):\n",
    "        if data[row][col] == '#':\n",
    "            all_galaxies.append([row, col])"
   ]
  },
  {
   "cell_type": "code",
   "execution_count": 15,
   "metadata": {},
   "outputs": [],
   "source": [
    "distances = []\n",
    "\n",
    "for galaxy in range(len(all_galaxies)):\n",
    "    if galaxy != len(all_galaxies) -1:\n",
    "        for s_gal in range(galaxy + 1, len(all_galaxies)):\n",
    "            distance = abs(all_galaxies[galaxy][0] - all_galaxies[s_gal][0]) + abs(all_galaxies[galaxy][1] - all_galaxies[s_gal][1])\n",
    "            distances.append(distance)"
   ]
  },
  {
   "cell_type": "code",
   "execution_count": 16,
   "metadata": {},
   "outputs": [
    {
     "data": {
      "text/plain": [
       "9166712"
      ]
     },
     "execution_count": 16,
     "metadata": {},
     "output_type": "execute_result"
    }
   ],
   "source": [
    "sum(distances)"
   ]
  },
  {
   "cell_type": "code",
   "execution_count": 17,
   "metadata": {},
   "outputs": [
    {
     "data": {
      "text/plain": [
       "603012"
      ]
     },
     "execution_count": 17,
     "metadata": {},
     "output_type": "execute_result"
    }
   ],
   "source": [
    "9769724-9166712"
   ]
  },
  {
   "cell_type": "code",
   "execution_count": 19,
   "metadata": {},
   "outputs": [
    {
     "data": {
      "text/plain": [
       "603020563700"
      ]
     },
     "execution_count": 19,
     "metadata": {},
     "output_type": "execute_result"
    }
   ],
   "source": [
    "603012*(1000000-1) + 9166712"
   ]
  },
  {
   "cell_type": "code",
   "execution_count": null,
   "metadata": {},
   "outputs": [],
   "source": []
  }
 ],
 "metadata": {
  "kernelspec": {
   "display_name": "Python 3",
   "language": "python",
   "name": "python3"
  },
  "language_info": {
   "codemirror_mode": {
    "name": "ipython",
    "version": 3
   },
   "file_extension": ".py",
   "mimetype": "text/x-python",
   "name": "python",
   "nbconvert_exporter": "python",
   "pygments_lexer": "ipython3",
   "version": "3.8.5"
  }
 },
 "nbformat": 4,
 "nbformat_minor": 4
}
