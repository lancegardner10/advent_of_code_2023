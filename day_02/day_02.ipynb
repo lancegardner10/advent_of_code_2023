{
 "cells": [
  {
   "cell_type": "code",
   "execution_count": 1,
   "metadata": {},
   "outputs": [],
   "source": [
    "import pandas as pd\n",
    "import numpy as np\n",
    "import re"
   ]
  },
  {
   "cell_type": "markdown",
   "metadata": {},
   "source": [
    "**Part One**"
   ]
  },
  {
   "cell_type": "code",
   "execution_count": 62,
   "metadata": {},
   "outputs": [
    {
     "name": "stdout",
     "output_type": "stream",
     "text": [
      "{'red': 5, 'blue': 3, 'green': 14}\n",
      "0\n",
      "13\n",
      "2979\n"
     ]
    }
   ],
   "source": [
    "valid_counts = {'red':12, 'blue':14, 'green':13}\n",
    "valid_games = []\n",
    "\n",
    "with open('input.txt') as my_input:\n",
    "    \n",
    "    cur_counts = {'red':0, 'blue':0, 'green':0}\n",
    "    \n",
    "    for line in my_input:\n",
    "        valid_game = True\n",
    "        split_line = line.split(' ')\n",
    "        game = 0\n",
    "        \n",
    "        for segment in split_line:\n",
    "            segment = segment.strip()\n",
    "            if segment.find(':') != -1:\n",
    "                game = int(segment.split(':')[0])\n",
    "            \n",
    "            elif segment.isnumeric():\n",
    "                cur_count = int(segment)\n",
    "            \n",
    "            elif segment[:-1] in valid_counts.keys() and segment.find(';') == -1:\n",
    "                cur_counts[segment[:-1]] = cur_count\n",
    "                \n",
    "            elif segment in valid_counts.keys():\n",
    "                cur_counts[segment] = cur_count\n",
    "                \n",
    "            elif segment.find(';') != -1:\n",
    "                cur_counts[segment[:-1]] = cur_count\n",
    "                for key in cur_counts:\n",
    "                    if cur_counts[key] > valid_counts[key]:\n",
    "                        valid_game = False\n",
    "                cur_counts = {'red':0, 'blue':0, 'green':0}\n",
    "                if not valid_game:\n",
    "                    break\n",
    "        \n",
    "        if game == 66:\n",
    "            print(cur_counts)\n",
    "        \n",
    "        for key in cur_counts:\n",
    "            if game == 66 and key == 'green':\n",
    "                print(cur_counts['green'])\n",
    "                print(valid_counts[key])\n",
    "            if cur_counts[key] > valid_counts[key]:\n",
    "                valid_game = False\n",
    "            cur_counts = {'red':0, 'blue':0, 'green':0}\n",
    "        \n",
    "        if valid_game:\n",
    "            valid_games.append(game)\n",
    "\n",
    "print(sum(valid_games))"
   ]
  },
  {
   "cell_type": "code",
   "execution_count": 54,
   "metadata": {},
   "outputs": [
    {
     "data": {
      "text/plain": [
       "array([  5,   8,   9,  10,  11,  15,  18,  19,  23,  24,  25,  26,  27,\n",
       "        28,  29,  30,  31,  32,  34,  35,  38,  39,  40,  41,  42,  43,\n",
       "        44,  46,  47,  48,  49,  50,  51,  52,  53,  54,  55,  56,  59,\n",
       "        62,  63,  65,  66,  67,  68,  69,  71,  72,  76,  77,  78,  79,\n",
       "        81,  83,  85,  89,  91,  94,  97, 100])"
      ]
     },
     "execution_count": 54,
     "metadata": {},
     "output_type": "execute_result"
    }
   ],
   "source": [
    "np.array(valid_games)"
   ]
  },
  {
   "cell_type": "code",
   "execution_count": 21,
   "metadata": {},
   "outputs": [
    {
     "data": {
      "text/plain": [
       "3051"
      ]
     },
     "execution_count": 21,
     "metadata": {},
     "output_type": "execute_result"
    }
   ],
   "source": [
    "np.array(valid_games).sum()"
   ]
  },
  {
   "cell_type": "code",
   "execution_count": 25,
   "metadata": {},
   "outputs": [
    {
     "data": {
      "text/plain": [
       "3051"
      ]
     },
     "execution_count": 25,
     "metadata": {},
     "output_type": "execute_result"
    }
   ],
   "source": [
    "sum(valid_games)"
   ]
  },
  {
   "cell_type": "code",
   "execution_count": 42,
   "metadata": {},
   "outputs": [
    {
     "name": "stdout",
     "output_type": "stream",
     "text": [
      "red\n",
      "blue\n",
      "green\n"
     ]
    }
   ],
   "source": [
    "for thing in valid_counts.keys():\n",
    "    print(thing)"
   ]
  },
  {
   "cell_type": "code",
   "execution_count": 52,
   "metadata": {},
   "outputs": [
    {
     "name": "stdout",
     "output_type": "stream",
     "text": [
      "test\n",
      "\n"
     ]
    }
   ],
   "source": [
    "print('test\\n')"
   ]
  },
  {
   "cell_type": "code",
   "execution_count": 55,
   "metadata": {},
   "outputs": [],
   "source": [
    "line66 = 'Game 66: 3 red, 7 blue, 11 green; 10 blue, 4 green, 9 red; 11 blue, 11 red, 12 green; 8 red, 7 blue, 10 green; 5 red, 14 green, 3 blue'"
   ]
  },
  {
   "cell_type": "code",
   "execution_count": 58,
   "metadata": {},
   "outputs": [
    {
     "name": "stdout",
     "output_type": "stream",
     "text": [
      "Game: 66\n",
      "Current Count: 3\n",
      "red, check 1\n",
      "Current Count: 7\n",
      "blue, check 1\n",
      "Current Count: 11\n",
      "green; check 3\n",
      "Current Count: 10\n",
      "blue, check 1\n",
      "Current Count: 4\n",
      "green, check 1\n",
      "Current Count: 9\n",
      "red; check 3\n",
      "Current Count: 11\n",
      "blue, check 1\n",
      "Current Count: 11\n",
      "red, check 1\n",
      "Current Count: 12\n",
      "green; check 3\n",
      "Current Count: 8\n",
      "red, check 1\n",
      "Current Count: 7\n",
      "blue, check 1\n",
      "Current Count: 10\n",
      "green; check 3\n",
      "Current Count: 5\n",
      "red, check 1\n",
      "Current Count: 14\n",
      "green, check 1\n",
      "Current Count: 3\n",
      "blue check 2\n"
     ]
    }
   ],
   "source": [
    "cur_counts = {'red':0, 'blue':0, 'green':0}\n",
    "cur_count = 0\n",
    "\n",
    "for segment in line66.split(' '):\n",
    "    segment = segment.strip()\n",
    "    if segment.find(':') != -1:\n",
    "        print('Game: ' + segment.split(':')[0])\n",
    "    \n",
    "    elif segment.isnumeric():\n",
    "        cur_count = int(segment)\n",
    "        print('Current Count: ' + segment)\n",
    "    \n",
    "    elif segment[:-1] in valid_counts.keys() and segment.find(';') == -1:\n",
    "        cur_counts[segment[:-1]] = cur_count\n",
    "        print(segment + ' check 1')\n",
    "        \n",
    "    elif segment in valid_counts.keys():\n",
    "        cur_counts[segment] = cur_count\n",
    "        print(segment + ' check 2')\n",
    "        \n",
    "    elif segment.find(';') != -1:\n",
    "        print(segment + ' check 3')\n",
    "        cur_counts[segment[:-1]] = cur_count\n",
    "        for key in cur_counts:\n",
    "            if cur_counts[key] > valid_counts[key]:\n",
    "                valid_game = False\n",
    "        cur_counts = {'red':0, 'blue':0, 'green':0}\n",
    "        if not valid_game:\n",
    "            break"
   ]
  },
  {
   "cell_type": "code",
   "execution_count": null,
   "metadata": {},
   "outputs": [],
   "source": []
  }
 ],
 "metadata": {
  "kernelspec": {
   "display_name": "Python 3",
   "language": "python",
   "name": "python3"
  },
  "language_info": {
   "codemirror_mode": {
    "name": "ipython",
    "version": 3
   },
   "file_extension": ".py",
   "mimetype": "text/x-python",
   "name": "python",
   "nbconvert_exporter": "python",
   "pygments_lexer": "ipython3",
   "version": "3.8.5"
  }
 },
 "nbformat": 4,
 "nbformat_minor": 4
}
