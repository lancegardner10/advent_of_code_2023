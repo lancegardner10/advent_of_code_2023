{
 "cells": [
  {
   "cell_type": "markdown",
   "metadata": {},
   "source": [
    "**Part One**"
   ]
  },
  {
   "cell_type": "code",
   "execution_count": 6,
   "metadata": {},
   "outputs": [],
   "source": [
    "all_sets = []\n",
    "\n",
    "with open('input.txt') as my_input:\n",
    "    \n",
    "    for line in my_input:\n",
    "        cur_set = list(map(int, line.split()))\n",
    "        all_sets.append(cur_set)"
   ]
  },
  {
   "cell_type": "code",
   "execution_count": 7,
   "metadata": {},
   "outputs": [
    {
     "data": {
      "text/plain": [
       "1684566095"
      ]
     },
     "execution_count": 7,
     "metadata": {},
     "output_type": "execute_result"
    }
   ],
   "source": [
    "endings = []\n",
    "\n",
    "for cur_set in all_sets:\n",
    "\n",
    "    cur_lists = [cur_set]\n",
    "    cur_list = cur_set.copy()\n",
    "\n",
    "    while cur_list.count(0) != len(cur_list):\n",
    "    \n",
    "        diffs = []\n",
    "        \n",
    "        for index in range(len(cur_list) - 1):\n",
    "            diffs.append(cur_list[index+1] - cur_list[index])\n",
    "        \n",
    "        cur_lists.append(diffs.copy())\n",
    "        cur_list = diffs.copy()\n",
    "    \n",
    "    for index in range(len(cur_lists) - 1, -1, -1):\n",
    "        \n",
    "        if index == len(cur_lists) - 1:\n",
    "            cur_lists[index].extend([0])\n",
    "        else:\n",
    "            cur_lists[index].extend([cur_lists[index+1][-1] + cur_lists[index][-1]])\n",
    "            \n",
    "    endings.append(cur_lists[0][-1])\n",
    "    \n",
    "sum(endings)"
   ]
  },
  {
   "cell_type": "markdown",
   "metadata": {},
   "source": [
    "**Part Two**"
   ]
  },
  {
   "cell_type": "code",
   "execution_count": 12,
   "metadata": {},
   "outputs": [],
   "source": [
    "all_sets = []\n",
    "\n",
    "with open('input.txt') as my_input:\n",
    "    \n",
    "    for line in my_input:\n",
    "        cur_set = list(map(int, line.split()))\n",
    "        all_sets.append(cur_set)"
   ]
  },
  {
   "cell_type": "code",
   "execution_count": 13,
   "metadata": {},
   "outputs": [
    {
     "data": {
      "text/plain": [
       "1136"
      ]
     },
     "execution_count": 13,
     "metadata": {},
     "output_type": "execute_result"
    }
   ],
   "source": [
    "beginnings = []\n",
    "\n",
    "for cur_set in all_sets:\n",
    "\n",
    "    cur_lists = [cur_set]\n",
    "    cur_list = cur_set.copy()\n",
    "\n",
    "    while cur_list.count(0) != len(cur_list):\n",
    "    \n",
    "        diffs = []\n",
    "        \n",
    "        for index in range(len(cur_list) - 1):\n",
    "            diffs.append(cur_list[index+1] - cur_list[index])\n",
    "        \n",
    "        cur_lists.append(diffs.copy())\n",
    "        cur_list = diffs.copy()\n",
    "    \n",
    "    for index in range(len(cur_lists) - 1, -1, -1):\n",
    "        \n",
    "        if index == len(cur_lists) - 1:\n",
    "            cur_lists[index].extend([0])\n",
    "        else:\n",
    "            cur_lists[index].insert(0, cur_lists[index][0] - cur_lists[index+1][0])\n",
    "            \n",
    "    beginnings.append(cur_lists[0][0])\n",
    "    \n",
    "sum(beginnings)"
   ]
  },
  {
   "cell_type": "code",
   "execution_count": null,
   "metadata": {},
   "outputs": [],
   "source": []
  }
 ],
 "metadata": {
  "kernelspec": {
   "display_name": "Python 3",
   "language": "python",
   "name": "python3"
  },
  "language_info": {
   "codemirror_mode": {
    "name": "ipython",
    "version": 3
   },
   "file_extension": ".py",
   "mimetype": "text/x-python",
   "name": "python",
   "nbconvert_exporter": "python",
   "pygments_lexer": "ipython3",
   "version": "3.8.5"
  }
 },
 "nbformat": 4,
 "nbformat_minor": 4
}
