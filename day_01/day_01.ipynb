{
 "cells": [
  {
   "cell_type": "code",
   "execution_count": 31,
   "metadata": {},
   "outputs": [],
   "source": [
    "import pandas as pd\n",
    "import numpy as np\n",
    "import re"
   ]
  },
  {
   "cell_type": "markdown",
   "metadata": {},
   "source": [
    "**Part One**"
   ]
  },
  {
   "cell_type": "code",
   "execution_count": 15,
   "metadata": {},
   "outputs": [
    {
     "data": {
      "text/plain": [
       "54632"
      ]
     },
     "execution_count": 15,
     "metadata": {},
     "output_type": "execute_result"
    }
   ],
   "source": [
    "all_nums = []\n",
    "\n",
    "with open('input.txt') as my_input:\n",
    "    for line in my_input:\n",
    "        num1 = -1\n",
    "        num2 = -1\n",
    "        for character in line:\n",
    "            if character.isnumeric():\n",
    "                num2 = character\n",
    "                if num1 == -1:\n",
    "                    num1 = character\n",
    "        all_nums.append(int(num1+num2))\n",
    "\n",
    "np.array(all_nums).sum()"
   ]
  },
  {
   "cell_type": "markdown",
   "metadata": {},
   "source": [
    "**Part Two**"
   ]
  },
  {
   "cell_type": "code",
   "execution_count": 34,
   "metadata": {},
   "outputs": [
    {
     "data": {
      "text/plain": [
       "54019"
      ]
     },
     "execution_count": 34,
     "metadata": {},
     "output_type": "execute_result"
    }
   ],
   "source": [
    "words = {'one':1, 'two':2, 'three':3, 'four':4, 'five':5, 'six':6, 'seven':7, 'eight':8, 'nine':9}\n",
    "\n",
    "all_nums = []\n",
    "\n",
    "with open('input.txt') as my_input:\n",
    "    for line in my_input:\n",
    "        cur_line = {}\n",
    "        for key in words.keys():\n",
    "            if line.find(key) != -1:\n",
    "                cur_line[line.find(key)] = key\n",
    "                cur_line[line.rfind(key)] = key\n",
    "        for value in words.values():\n",
    "            if line.find(str(value)) != -1:\n",
    "                cur_line[line.find(str(value))] = str(value)\n",
    "                cur_line[line.rfind(str(value))] = str(value)\n",
    "        \n",
    "        first_num = cur_line[min(list(cur_line.keys()))]\n",
    "        second_num = cur_line[max(list(cur_line.keys()))]\n",
    "        \n",
    "        if isinstance(first_num, int):\n",
    "            first_num = str(first_num)\n",
    "        elif not str(first_num).isnumeric():\n",
    "            first_num = str(words[first_num])\n",
    "        \n",
    "        if isinstance(second_num, int):\n",
    "            second_num = str(second_num)\n",
    "        elif not str(second_num).isnumeric():\n",
    "            second_num = str(words[second_num])\n",
    "        \n",
    "        all_nums.append(int(first_num + second_num))\n",
    "\n",
    "np.array(all_nums).sum()"
   ]
  },
  {
   "cell_type": "code",
   "execution_count": null,
   "metadata": {},
   "outputs": [],
   "source": []
  }
 ],
 "metadata": {
  "kernelspec": {
   "display_name": "Python 3",
   "language": "python",
   "name": "python3"
  },
  "language_info": {
   "codemirror_mode": {
    "name": "ipython",
    "version": 3
   },
   "file_extension": ".py",
   "mimetype": "text/x-python",
   "name": "python",
   "nbconvert_exporter": "python",
   "pygments_lexer": "ipython3",
   "version": "3.8.5"
  }
 },
 "nbformat": 4,
 "nbformat_minor": 4
}
