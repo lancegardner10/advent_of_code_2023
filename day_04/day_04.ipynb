{
 "cells": [
  {
   "cell_type": "code",
   "execution_count": 1,
   "metadata": {},
   "outputs": [],
   "source": [
    "import pandas as pd\n",
    "import numpy as np"
   ]
  },
  {
   "cell_type": "markdown",
   "metadata": {},
   "source": [
    "**Part One**"
   ]
  },
  {
   "cell_type": "code",
   "execution_count": 2,
   "metadata": {},
   "outputs": [],
   "source": [
    "with open('input.txt') as my_input:\n",
    "    \n",
    "    line_values = []\n",
    "    \n",
    "    for line in my_input:\n",
    "        \n",
    "        matches = 0\n",
    "        \n",
    "        line = line.split(':')[1].strip()\n",
    "        \n",
    "        winners, my_nums = line.split('|')\n",
    "        winners = winners.split()\n",
    "        my_nums = my_nums.split()\n",
    "        \n",
    "        for num in my_nums:\n",
    "            if num in winners:\n",
    "                matches += 1\n",
    "        \n",
    "        if matches != 0:\n",
    "            line_values.append(2**(matches-1))\n",
    "        else:\n",
    "            line_values.append(0)"
   ]
  },
  {
   "cell_type": "code",
   "execution_count": 3,
   "metadata": {},
   "outputs": [
    {
     "data": {
      "text/plain": [
       "21105"
      ]
     },
     "execution_count": 3,
     "metadata": {},
     "output_type": "execute_result"
    }
   ],
   "source": [
    "sum(line_values)"
   ]
  },
  {
   "cell_type": "markdown",
   "metadata": {},
   "source": [
    "**Part Two**"
   ]
  },
  {
   "cell_type": "code",
   "execution_count": 13,
   "metadata": {},
   "outputs": [],
   "source": [
    "with open('input.txt') as my_input:\n",
    "    \n",
    "    card_count = {}\n",
    "    \n",
    "    for line in my_input:\n",
    "        \n",
    "        matches = 0\n",
    "        multiplier = 1\n",
    "        \n",
    "        card, line = line.split(':')\n",
    "        line = line.strip()\n",
    "        \n",
    "        cur_card = int(card.split()[1])\n",
    "        \n",
    "        if cur_card not in card_count.keys():\n",
    "            card_count[cur_card] = 1\n",
    "        else:\n",
    "            card_count[cur_card] = card_count[cur_card] + 1\n",
    "            multiplier = card_count[cur_card]\n",
    "        \n",
    "        winners, my_nums = line.split('|')\n",
    "        winners = winners.split()\n",
    "        my_nums = my_nums.split()\n",
    "        \n",
    "        for num in my_nums:\n",
    "            if num in winners:\n",
    "                matches += 1\n",
    "        \n",
    "        for match in range(1, matches + 1):\n",
    "            if (cur_card + match) not in card_count.keys():\n",
    "                card_count[cur_card + match] = multiplier\n",
    "            else:\n",
    "                card_count[cur_card + match] = card_count[cur_card + match] + multiplier"
   ]
  },
  {
   "cell_type": "code",
   "execution_count": 14,
   "metadata": {},
   "outputs": [
    {
     "data": {
      "text/plain": [
       "5329815"
      ]
     },
     "execution_count": 14,
     "metadata": {},
     "output_type": "execute_result"
    }
   ],
   "source": [
    "sum(card_count.values())"
   ]
  },
  {
   "cell_type": "code",
   "execution_count": 10,
   "metadata": {},
   "outputs": [
    {
     "data": {
      "text/plain": [
       "[512, 512, 512, 512, 16]"
      ]
     },
     "execution_count": 10,
     "metadata": {},
     "output_type": "execute_result"
    }
   ],
   "source": [
    "line_values[0:5]"
   ]
  },
  {
   "cell_type": "code",
   "execution_count": null,
   "metadata": {},
   "outputs": [],
   "source": []
  }
 ],
 "metadata": {
  "kernelspec": {
   "display_name": "Python 3",
   "language": "python",
   "name": "python3"
  },
  "language_info": {
   "codemirror_mode": {
    "name": "ipython",
    "version": 3
   },
   "file_extension": ".py",
   "mimetype": "text/x-python",
   "name": "python",
   "nbconvert_exporter": "python",
   "pygments_lexer": "ipython3",
   "version": "3.8.5"
  }
 },
 "nbformat": 4,
 "nbformat_minor": 4
}
