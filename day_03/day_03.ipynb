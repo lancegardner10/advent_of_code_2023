{
 "cells": [
  {
   "cell_type": "code",
   "execution_count": 42,
   "metadata": {},
   "outputs": [],
   "source": [
    "import pandas as pd\n",
    "import numpy as np"
   ]
  },
  {
   "cell_type": "markdown",
   "metadata": {},
   "source": [
    "**Part One**"
   ]
  },
  {
   "cell_type": "code",
   "execution_count": 39,
   "metadata": {},
   "outputs": [],
   "source": [
    "with open('input.txt') as my_input:\n",
    "    \n",
    "    grid = []\n",
    "    row = 0\n",
    "    col = 0\n",
    "    beginnings = []\n",
    "    endings = []\n",
    "    nums = []\n",
    "    symbols = []\n",
    "    part_num = []\n",
    "        \n",
    "    for line in my_input:\n",
    "        \n",
    "        line = line.strip()\n",
    "        cur_num = ''\n",
    "        grid.append([])\n",
    "        \n",
    "        for cur_char in line:\n",
    "            \n",
    "            grid[row].append(cur_char)\n",
    "            \n",
    "            if cur_char.isnumeric() and cur_num == '' and (col != len(line) - 1):\n",
    "                beginnings.append([row, col])\n",
    "                cur_num += cur_char\n",
    "            \n",
    "            elif cur_char.isnumeric() and cur_num == '' and (col == len(line) -1):\n",
    "                cur_num += cur_char\n",
    "                beginnings.append([row, col])\n",
    "                endings.append([row, col])\n",
    "                nums.append(int(cur_num))\n",
    "\n",
    "            elif cur_char.isnumeric() and cur_num != '' and (col != len(line) - 1):\n",
    "                cur_num += cur_char\n",
    "                \n",
    "            elif cur_char.isnumeric() and cur_num != '' and (col == len(line) - 1):\n",
    "                cur_num += cur_char\n",
    "                endings.append([row, col])\n",
    "                nums.append(int(cur_num))\n",
    "                cur_num = ''\n",
    "                \n",
    "            elif not cur_char.isnumeric() and cur_num != '':\n",
    "                endings.append([row, col-1])\n",
    "                nums.append(int(cur_num))\n",
    "                cur_num = ''\n",
    "                \n",
    "            if not cur_char.isnumeric() and cur_char != '.':\n",
    "                symbols.append([row, col])\n",
    "            \n",
    "            col += 1\n",
    "        \n",
    "        col = 0\n",
    "        row += 1\n",
    "    \n",
    "    for index in range(len(nums)):\n",
    "        \n",
    "        begin = beginnings[index]\n",
    "        end = endings[index]\n",
    "        num = nums[index]\n",
    "        \n",
    "        for sym in range(len(symbols)):\n",
    "            #check above\n",
    "            if symbols[sym][0] == begin[0] - 1:\n",
    "                if symbols[sym][1] >= begin[1] - 1 and symbols[sym][1] <= end[1] + 1:\n",
    "                    part_num.append(num)\n",
    "            #check below\n",
    "            elif symbols[sym][0] == begin[0] + 1:\n",
    "                if symbols[sym][1] >= begin[1] - 1 and symbols[sym][1] <= end[1] + 1:\n",
    "                    part_num.append(num)\n",
    "            #check right\n",
    "            elif symbols[sym][0] == begin[0]:\n",
    "                if symbols[sym][1] == begin[1] - 1 or symbols[sym][1] == end[1] + 1:\n",
    "                    part_num.append(num)"
   ]
  },
  {
   "cell_type": "code",
   "execution_count": 49,
   "metadata": {},
   "outputs": [
    {
     "data": {
      "text/plain": [
       "549908"
      ]
     },
     "execution_count": 49,
     "metadata": {},
     "output_type": "execute_result"
    }
   ],
   "source": [
    "sum(part_num)"
   ]
  },
  {
   "cell_type": "markdown",
   "metadata": {},
   "source": [
    "**Part Two**"
   ]
  },
  {
   "cell_type": "code",
   "execution_count": 46,
   "metadata": {},
   "outputs": [],
   "source": [
    "gear_ratios = []\n",
    "\n",
    "for sym in range(len(symbols)):\n",
    "    \n",
    "    cur_nums = []\n",
    "    \n",
    "    if grid[symbols[sym][0]][symbols[sym][1]] != '*':\n",
    "        continue\n",
    "    \n",
    "    for index in range(len(nums)):\n",
    "        \n",
    "        begin = beginnings[index]\n",
    "        end = endings[index]\n",
    "        num = nums[index]\n",
    "        \n",
    "        #check above\n",
    "        if symbols[sym][0] == begin[0] - 1:\n",
    "            if symbols[sym][1] >= begin[1] - 1 and symbols[sym][1] <= end[1] + 1:\n",
    "                cur_nums.append(num)\n",
    "        #check below\n",
    "        elif symbols[sym][0] == begin[0] + 1:\n",
    "            if symbols[sym][1] >= begin[1] - 1 and symbols[sym][1] <= end[1] + 1:\n",
    "                cur_nums.append(num)\n",
    "        #check right\n",
    "        elif symbols[sym][0] == begin[0]:\n",
    "            if symbols[sym][1] == begin[1] - 1 or symbols[sym][1] == end[1] + 1:\n",
    "                cur_nums.append(num)\n",
    "    \n",
    "    if len(cur_nums) == 2:\n",
    "        gear_ratios.append(cur_nums[0]*cur_nums[1])"
   ]
  },
  {
   "cell_type": "code",
   "execution_count": 48,
   "metadata": {},
   "outputs": [
    {
     "data": {
      "text/plain": [
       "81166799"
      ]
     },
     "execution_count": 48,
     "metadata": {},
     "output_type": "execute_result"
    }
   ],
   "source": [
    "sum(gear_ratios)"
   ]
  },
  {
   "cell_type": "code",
   "execution_count": null,
   "metadata": {},
   "outputs": [],
   "source": []
  }
 ],
 "metadata": {
  "kernelspec": {
   "display_name": "Python 3",
   "language": "python",
   "name": "python3"
  },
  "language_info": {
   "codemirror_mode": {
    "name": "ipython",
    "version": 3
   },
   "file_extension": ".py",
   "mimetype": "text/x-python",
   "name": "python",
   "nbconvert_exporter": "python",
   "pygments_lexer": "ipython3",
   "version": "3.8.5"
  }
 },
 "nbformat": 4,
 "nbformat_minor": 4
}
