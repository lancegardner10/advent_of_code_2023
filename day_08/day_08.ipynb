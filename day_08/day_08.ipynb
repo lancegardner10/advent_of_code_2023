{
 "cells": [
  {
   "cell_type": "markdown",
   "metadata": {},
   "source": [
    "**Part One**"
   ]
  },
  {
   "cell_type": "code",
   "execution_count": 32,
   "metadata": {},
   "outputs": [],
   "source": [
    "with open('input.txt') as my_input:\n",
    "    \n",
    "    instructions = ''\n",
    "    mappings = {}\n",
    "    \n",
    "    for line in my_input:\n",
    "        \n",
    "        if len(line) > 20:\n",
    "            instructions = line.strip()\n",
    "            continue\n",
    "        elif len(line) < 4:\n",
    "            continue\n",
    "            \n",
    "        element, equals, left, right = line.split()\n",
    "        mappings[element] = [left[1:-1], right[:-1]]"
   ]
  },
  {
   "cell_type": "code",
   "execution_count": 33,
   "metadata": {},
   "outputs": [],
   "source": [
    "step = 0\n",
    "big_counter = 0\n",
    "\n",
    "element = 'AAA'\n",
    "\n",
    "while True:\n",
    "    \n",
    "    instruction = instructions[step]\n",
    "    \n",
    "    if instruction == 'L':\n",
    "        element = mappings[element][0]\n",
    "    else:\n",
    "        element = mappings[element][1]\n",
    "        \n",
    "    step += 1\n",
    "    \n",
    "    if step == len(instructions):\n",
    "        big_counter += 1\n",
    "        step = 0\n",
    "    \n",
    "    if element == 'ZZZ':\n",
    "        break\n",
    "        \n",
    "answer = big_counter*len(instructions) + step"
   ]
  },
  {
   "cell_type": "code",
   "execution_count": 34,
   "metadata": {},
   "outputs": [
    {
     "data": {
      "text/plain": [
       "15871"
      ]
     },
     "execution_count": 34,
     "metadata": {},
     "output_type": "execute_result"
    }
   ],
   "source": [
    "answer"
   ]
  },
  {
   "cell_type": "markdown",
   "metadata": {},
   "source": [
    "**Part Two**"
   ]
  },
  {
   "cell_type": "code",
   "execution_count": 1,
   "metadata": {},
   "outputs": [],
   "source": [
    "with open('input.txt') as my_input:\n",
    "    \n",
    "    instructions = ''\n",
    "    mappings = {}\n",
    "    \n",
    "    for line in my_input:\n",
    "        \n",
    "        if len(line) > 20:\n",
    "            instructions = line.strip()\n",
    "            continue\n",
    "        elif len(line) < 4:\n",
    "            continue\n",
    "            \n",
    "        element, equals, left, right = line.split()\n",
    "        mappings[element] = [left[1:-1], right[:-1]]"
   ]
  },
  {
   "cell_type": "code",
   "execution_count": 3,
   "metadata": {},
   "outputs": [],
   "source": [
    "a_endings = []\n",
    "\n",
    "for mapping in mappings:\n",
    "    if mapping[-1] == 'A':\n",
    "        a_endings.append(mapping)"
   ]
  },
  {
   "cell_type": "code",
   "execution_count": 4,
   "metadata": {},
   "outputs": [
    {
     "data": {
      "text/plain": [
       "['XSA', 'VVA', 'TTA', 'AAA', 'NBA', 'MHA']"
      ]
     },
     "execution_count": 4,
     "metadata": {},
     "output_type": "execute_result"
    }
   ],
   "source": [
    "a_endings"
   ]
  },
  {
   "cell_type": "code",
   "execution_count": 7,
   "metadata": {},
   "outputs": [],
   "source": [
    "steps = []\n",
    "\n",
    "for a_ending in a_endings:\n",
    "\n",
    "    step = 0\n",
    "    big_counter = 0\n",
    "    \n",
    "    element = a_ending\n",
    "    \n",
    "    while True:\n",
    "        \n",
    "        instruction = instructions[step]\n",
    "        \n",
    "        if instruction == 'L':\n",
    "            element = mappings[element][0]\n",
    "        else:\n",
    "            element = mappings[element][1]\n",
    "            \n",
    "        step += 1\n",
    "        \n",
    "        if step == len(instructions):\n",
    "            big_counter += 1\n",
    "            step = 0\n",
    "        \n",
    "        if element[-1] == 'Z':\n",
    "            break\n",
    "            \n",
    "    steps.append(big_counter*len(instructions) + step)"
   ]
  },
  {
   "cell_type": "code",
   "execution_count": 10,
   "metadata": {},
   "outputs": [],
   "source": [
    "low = min(steps)\n",
    "high = max(steps)"
   ]
  },
  {
   "cell_type": "code",
   "execution_count": 13,
   "metadata": {},
   "outputs": [
    {
     "data": {
      "text/plain": [
       "[16409, 12643, 21251, 15871, 19637, 11567]"
      ]
     },
     "execution_count": 13,
     "metadata": {},
     "output_type": "execute_result"
    }
   ],
   "source": [
    "steps"
   ]
  },
  {
   "cell_type": "code",
   "execution_count": 18,
   "metadata": {},
   "outputs": [],
   "source": [
    "import numpy as np\n",
    "import math"
   ]
  },
  {
   "cell_type": "code",
   "execution_count": 20,
   "metadata": {},
   "outputs": [],
   "source": [
    "lcm = 1\n",
    "for i in steps:\n",
    "    lcm = lcm*i//math.gcd(lcm, i)"
   ]
  },
  {
   "cell_type": "code",
   "execution_count": 21,
   "metadata": {},
   "outputs": [
    {
     "data": {
      "text/plain": [
       "11283670395017"
      ]
     },
     "execution_count": 21,
     "metadata": {},
     "output_type": "execute_result"
    }
   ],
   "source": [
    "lcm"
   ]
  },
  {
   "cell_type": "code",
   "execution_count": null,
   "metadata": {},
   "outputs": [],
   "source": []
  }
 ],
 "metadata": {
  "kernelspec": {
   "display_name": "Python 3",
   "language": "python",
   "name": "python3"
  },
  "language_info": {
   "codemirror_mode": {
    "name": "ipython",
    "version": 3
   },
   "file_extension": ".py",
   "mimetype": "text/x-python",
   "name": "python",
   "nbconvert_exporter": "python",
   "pygments_lexer": "ipython3",
   "version": "3.8.5"
  }
 },
 "nbformat": 4,
 "nbformat_minor": 4
}
