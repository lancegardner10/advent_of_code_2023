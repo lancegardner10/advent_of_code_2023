{
 "cells": [
  {
   "cell_type": "markdown",
   "metadata": {},
   "source": [
    "**Part One**"
   ]
  },
  {
   "cell_type": "code",
   "execution_count": 43,
   "metadata": {},
   "outputs": [],
   "source": [
    "with open('input.txt') as my_input:\n",
    "    all_pipes = []\n",
    "    for line in my_input:\n",
    "        all_pipes.append(line.split()[0])"
   ]
  },
  {
   "cell_type": "code",
   "execution_count": 44,
   "metadata": {},
   "outputs": [],
   "source": [
    "for line in range(0, len(all_pipes)):\n",
    "    for spot in range(0, len(all_pipes[line])):\n",
    "        if all_pipes[line][spot] == 'S':\n",
    "            starting_spot = [line, spot]\n",
    "            break"
   ]
  },
  {
   "cell_type": "code",
   "execution_count": 45,
   "metadata": {},
   "outputs": [],
   "source": [
    "move_pipes = {}\n",
    "\n",
    "cur_pipe = ''\n",
    "cur_move = 1\n",
    "prev_dir = ''\n",
    "cur_spot = []\n",
    "\n",
    "while cur_pipe != 'S':\n",
    "    \n",
    "    if cur_pipe == '':\n",
    "        \n",
    "        cur_spot = [starting_spot[0], starting_spot[1]+1]\n",
    "        prev_dir = 'w'\n",
    "        \n",
    "    elif cur_pipe == '7':\n",
    "        \n",
    "        if prev_dir == 'w':\n",
    "            cur_spot = [cur_spot[0]+1, cur_spot[1]]\n",
    "            prev_dir = 'n'\n",
    "        elif prev_dir == 's':\n",
    "            cur_spot = [cur_spot[0], cur_spot[1]-1]\n",
    "            prev_dir = 'e'\n",
    "        \n",
    "    elif cur_pipe == '|':\n",
    "        \n",
    "        if prev_dir == 'n':\n",
    "            cur_spot = [cur_spot[0]+1, cur_spot[1]]\n",
    "            prev_dir = 'n'\n",
    "        elif prev_dir == 's':\n",
    "            cur_spot = [cur_spot[0]-1, cur_spot[1]]\n",
    "            prev_dir = 's'\n",
    "        \n",
    "    elif cur_pipe == '-':\n",
    "        \n",
    "        if prev_dir == 'e':\n",
    "            cur_spot = [cur_spot[0], cur_spot[1]-1]\n",
    "            prev_dir = 'e'\n",
    "        elif prev_dir == 'w':\n",
    "            cur_spot = [cur_spot[0], cur_spot[1]+1]\n",
    "            prev_dir = 'w'\n",
    "            \n",
    "    elif cur_pipe == 'J':\n",
    "        \n",
    "        if prev_dir == 'n':\n",
    "            cur_spot = [cur_spot[0], cur_spot[1]-1]\n",
    "            prev_dir = 'e'\n",
    "        elif prev_dir == 'w':\n",
    "            cur_spot = [cur_spot[0]-1, cur_spot[1]]\n",
    "            prev_dir = 's'\n",
    "            \n",
    "    elif cur_pipe == 'L':\n",
    "        \n",
    "        if prev_dir == 'n':\n",
    "            cur_spot = [cur_spot[0], cur_spot[1]+1]\n",
    "            prev_dir = 'w'\n",
    "        elif prev_dir == 'e':\n",
    "            cur_spot = [cur_spot[0]-1, cur_spot[1]]\n",
    "            prev_dir = 's'\n",
    "            \n",
    "    elif cur_pipe == 'F':\n",
    "        \n",
    "        if prev_dir == 's':\n",
    "            cur_spot = [cur_spot[0], cur_spot[1]+1]\n",
    "            prev_dir = 'w'\n",
    "        elif prev_dir == 'e':\n",
    "            cur_spot = [cur_spot[0]+1, cur_spot[1]]\n",
    "            prev_dir = 'n'   \n",
    "            \n",
    "    cur_pipe = all_pipes[cur_spot[0]][cur_spot[1]]\n",
    "    move_pipes[cur_move] = cur_pipe\n",
    "    cur_move += 1"
   ]
  },
  {
   "cell_type": "code",
   "execution_count": 46,
   "metadata": {},
   "outputs": [
    {
     "data": {
      "text/plain": [
       "13720"
      ]
     },
     "execution_count": 46,
     "metadata": {},
     "output_type": "execute_result"
    }
   ],
   "source": [
    "len(move_pipes)"
   ]
  },
  {
   "cell_type": "code",
   "execution_count": 47,
   "metadata": {},
   "outputs": [
    {
     "data": {
      "text/plain": [
       "6860.0"
      ]
     },
     "execution_count": 47,
     "metadata": {},
     "output_type": "execute_result"
    }
   ],
   "source": [
    "13720/2"
   ]
  },
  {
   "cell_type": "markdown",
   "metadata": {},
   "source": [
    "**Part Two**"
   ]
  },
  {
   "cell_type": "code",
   "execution_count": 48,
   "metadata": {},
   "outputs": [],
   "source": [
    "move_pipes = {}\n",
    "\n",
    "cur_pipe = ''\n",
    "cur_move = 1\n",
    "prev_dir = ''\n",
    "cur_spot = []\n",
    "all_spots = []\n",
    "\n",
    "while cur_pipe != 'S':\n",
    "    \n",
    "    if cur_pipe == '':\n",
    "        \n",
    "        cur_spot = [starting_spot[0], starting_spot[1]+1]\n",
    "        prev_dir = 'w'\n",
    "        \n",
    "    elif cur_pipe == '7':\n",
    "        \n",
    "        if prev_dir == 'w':\n",
    "            cur_spot = [cur_spot[0]+1, cur_spot[1]]\n",
    "            prev_dir = 'n'\n",
    "        elif prev_dir == 's':\n",
    "            cur_spot = [cur_spot[0], cur_spot[1]-1]\n",
    "            prev_dir = 'e'\n",
    "        \n",
    "    elif cur_pipe == '|':\n",
    "        \n",
    "        if prev_dir == 'n':\n",
    "            cur_spot = [cur_spot[0]+1, cur_spot[1]]\n",
    "            prev_dir = 'n'\n",
    "        elif prev_dir == 's':\n",
    "            cur_spot = [cur_spot[0]-1, cur_spot[1]]\n",
    "            prev_dir = 's'\n",
    "        \n",
    "    elif cur_pipe == '-':\n",
    "        \n",
    "        if prev_dir == 'e':\n",
    "            cur_spot = [cur_spot[0], cur_spot[1]-1]\n",
    "            prev_dir = 'e'\n",
    "        elif prev_dir == 'w':\n",
    "            cur_spot = [cur_spot[0], cur_spot[1]+1]\n",
    "            prev_dir = 'w'\n",
    "            \n",
    "    elif cur_pipe == 'J':\n",
    "        \n",
    "        if prev_dir == 'n':\n",
    "            cur_spot = [cur_spot[0], cur_spot[1]-1]\n",
    "            prev_dir = 'e'\n",
    "        elif prev_dir == 'w':\n",
    "            cur_spot = [cur_spot[0]-1, cur_spot[1]]\n",
    "            prev_dir = 's'\n",
    "            \n",
    "    elif cur_pipe == 'L':\n",
    "        \n",
    "        if prev_dir == 'n':\n",
    "            cur_spot = [cur_spot[0], cur_spot[1]+1]\n",
    "            prev_dir = 'w'\n",
    "        elif prev_dir == 'e':\n",
    "            cur_spot = [cur_spot[0]-1, cur_spot[1]]\n",
    "            prev_dir = 's'\n",
    "            \n",
    "    elif cur_pipe == 'F':\n",
    "        \n",
    "        if prev_dir == 's':\n",
    "            cur_spot = [cur_spot[0], cur_spot[1]+1]\n",
    "            prev_dir = 'w'\n",
    "        elif prev_dir == 'e':\n",
    "            cur_spot = [cur_spot[0]+1, cur_spot[1]]\n",
    "            prev_dir = 'n'   \n",
    "            \n",
    "    all_spots.append(cur_spot)\n",
    "    cur_pipe = all_pipes[cur_spot[0]][cur_spot[1]]\n",
    "    move_pipes[cur_move] = cur_pipe\n",
    "    cur_move += 1"
   ]
  },
  {
   "cell_type": "code",
   "execution_count": 49,
   "metadata": {},
   "outputs": [],
   "source": [
    "all_rows = []\n",
    "all_cols = []\n",
    "\n",
    "for spot in all_spots:\n",
    "    all_rows.append(spot[0])\n",
    "    all_cols.append(spot[1])"
   ]
  },
  {
   "cell_type": "code",
   "execution_count": 50,
   "metadata": {},
   "outputs": [
    {
     "name": "stdout",
     "output_type": "stream",
     "text": [
      "139\n",
      "3\n",
      "137\n",
      "4\n"
     ]
    }
   ],
   "source": [
    "print(max(all_rows))\n",
    "print(min(all_rows))\n",
    "print(max(all_cols))\n",
    "print(min(all_cols))"
   ]
  },
  {
   "cell_type": "code",
   "execution_count": 51,
   "metadata": {},
   "outputs": [
    {
     "data": {
      "text/plain": [
       "13720"
      ]
     },
     "execution_count": 51,
     "metadata": {},
     "output_type": "execute_result"
    }
   ],
   "source": [
    "len(all_spots)"
   ]
  },
  {
   "cell_type": "code",
   "execution_count": 53,
   "metadata": {},
   "outputs": [
    {
     "data": {
      "text/plain": [
       "140"
      ]
     },
     "execution_count": 53,
     "metadata": {},
     "output_type": "execute_result"
    }
   ],
   "source": [
    "len(all_pipes[0])"
   ]
  },
  {
   "cell_type": "code",
   "execution_count": 54,
   "metadata": {},
   "outputs": [],
   "source": [
    "all_insides = []\n",
    "upturns = ['J', 'L']\n",
    "downturns = ['7','F']\n",
    "leftturns = ['J', '7']\n",
    "rightturns = ['F', 'L']\n",
    "\n",
    "for row in range(len(all_pipes)):\n",
    "    for col in range(len(all_pipes[0])):\n",
    "        \n",
    "        above_counter = 0\n",
    "        beside_counter = 0\n",
    "        \n",
    "        if [row, col] in all_spots:\n",
    "            continue\n",
    "            \n",
    "        for above in range(row):\n",
    "            if (all_pipes[above][col] == '-' or all_pipes[above][col] == 'S') and [above, col] in all_spots:\n",
    "                above_counter += 1\n",
    "            elif all_pipes[above][col] in leftturns and [above, col] in all_spots:\n",
    "                above_counter += 1\n",
    "        for beside in range(col):\n",
    "            if all_pipes[row][beside] == '|' and [row, beside] in all_spots:\n",
    "                beside_counter += 1\n",
    "            elif all_pipes[row][beside] in upturns and [row, beside] in all_spots:\n",
    "                beside_counter += 1\n",
    "        \n",
    "        if above_counter%2 == 1 and beside_counter%2 == 1:\n",
    "            all_insides.append([row, col])"
   ]
  },
  {
   "cell_type": "code",
   "execution_count": 55,
   "metadata": {},
   "outputs": [
    {
     "data": {
      "text/plain": [
       "343"
      ]
     },
     "execution_count": 55,
     "metadata": {},
     "output_type": "execute_result"
    }
   ],
   "source": [
    "len(all_insides)"
   ]
  },
  {
   "cell_type": "code",
   "execution_count": null,
   "metadata": {},
   "outputs": [],
   "source": []
  }
 ],
 "metadata": {
  "kernelspec": {
   "display_name": "Python 3",
   "language": "python",
   "name": "python3"
  },
  "language_info": {
   "codemirror_mode": {
    "name": "ipython",
    "version": 3
   },
   "file_extension": ".py",
   "mimetype": "text/x-python",
   "name": "python",
   "nbconvert_exporter": "python",
   "pygments_lexer": "ipython3",
   "version": "3.8.5"
  }
 },
 "nbformat": 4,
 "nbformat_minor": 4
}
