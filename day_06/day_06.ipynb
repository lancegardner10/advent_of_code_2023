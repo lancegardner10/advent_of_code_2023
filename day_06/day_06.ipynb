{
 "cells": [
  {
   "cell_type": "code",
   "execution_count": 1,
   "metadata": {},
   "outputs": [],
   "source": [
    "import pandas as pd\n",
    "import numpy as np"
   ]
  },
  {
   "cell_type": "markdown",
   "metadata": {},
   "source": [
    "**Part 1**"
   ]
  },
  {
   "cell_type": "code",
   "execution_count": 11,
   "metadata": {},
   "outputs": [],
   "source": [
    "with open('input.txt') as my_input:\n",
    "    \n",
    "    times = []\n",
    "    distances = []\n",
    "    ways_to_win = []\n",
    "    \n",
    "    for line in my_input:\n",
    "        \n",
    "        if line.find('Time') != -1:\n",
    "            times = line.strip().split()[1:]\n",
    "        else:\n",
    "            distances = line.strip().split()[1:]\n",
    "    \n",
    "    winning_time = -1\n",
    "    \n",
    "    for i in range(len(times)):\n",
    "        \n",
    "        for x in range(int(times[i])):\n",
    "            \n",
    "            if x * (int(times[i]) - x) > int(distances[i]):\n",
    "                winning_time = x\n",
    "                break\n",
    "        ways_to_win.append(int(times[i]) - winning_time - winning_time + 1)"
   ]
  },
  {
   "cell_type": "code",
   "execution_count": 13,
   "metadata": {},
   "outputs": [
    {
     "data": {
      "text/plain": [
       "1312850"
      ]
     },
     "execution_count": 13,
     "metadata": {},
     "output_type": "execute_result"
    }
   ],
   "source": [
    "np.prod(ways_to_win)"
   ]
  },
  {
   "cell_type": "markdown",
   "metadata": {},
   "source": [
    "**Part 2**"
   ]
  },
  {
   "cell_type": "code",
   "execution_count": 21,
   "metadata": {},
   "outputs": [],
   "source": [
    "with open('input.txt') as my_input:\n",
    "    \n",
    "    times = []\n",
    "    distances = []\n",
    "    \n",
    "    for line in my_input:\n",
    "        \n",
    "        if line.find('Time') != -1:\n",
    "            time = int(line.strip().split(':')[1].replace(' ', ''))\n",
    "        else:\n",
    "            distance = int(line.strip().split(':')[1].replace(' ', ''))\n",
    "    \n",
    "    winning_time = -1\n",
    "    \n",
    "    for x in range(int(time)):\n",
    "        \n",
    "        if x * (int(time) - x) > int(distance):\n",
    "            winning_time = x\n",
    "            break\n",
    "            \n",
    "    ways_to_win = int(time) - winning_time - winning_time + 1"
   ]
  },
  {
   "cell_type": "code",
   "execution_count": 22,
   "metadata": {},
   "outputs": [
    {
     "data": {
      "text/plain": [
       "[36749103]"
      ]
     },
     "execution_count": 22,
     "metadata": {},
     "output_type": "execute_result"
    }
   ],
   "source": [
    "ways_to_win"
   ]
  }
 ],
 "metadata": {
  "kernelspec": {
   "display_name": "Python 3",
   "language": "python",
   "name": "python3"
  },
  "language_info": {
   "codemirror_mode": {
    "name": "ipython",
    "version": 3
   },
   "file_extension": ".py",
   "mimetype": "text/x-python",
   "name": "python",
   "nbconvert_exporter": "python",
   "pygments_lexer": "ipython3",
   "version": "3.8.5"
  }
 },
 "nbformat": 4,
 "nbformat_minor": 4
}
